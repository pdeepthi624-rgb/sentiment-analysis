{
 "cells": [
  {
   "cell_type": "code",
   "execution_count": 5,
   "id": "2a80f489-1dcc-42d5-b538-138c2effee2c",
   "metadata": {},
   "outputs": [
    {
     "name": "stdout",
     "output_type": "stream",
     "text": [
      "✅ Custom dataset model trained & saved\n"
     ]
    }
   ],
   "source": [
    "import pandas as pd\n",
    "from sklearn.feature_extraction.text import TfidfVectorizer\n",
    "from sklearn.linear_model import LogisticRegression\n",
    "import pickle\n",
    "\n",
    "# Load custom dataset\n",
    "df = pd.read_csv(\"C:/Users/HP/OneDrive/Desktop/internship jupiterking/sentiment-analysis-app/custom_sentiment_dataset.csv.csv\")\n",
    "\n",
    "\n",
    "\n",
    "\n",
    "# Map labels to numbers\n",
    "df[\"label\"] = df[\"label\"].map({\n",
    "    \"positive\": 1,\n",
    "    \"negative\": 0,\n",
    "    \"neutral\": 2   # optional: 3-class classification\n",
    "})\n",
    "\n",
    "# Vectorize text\n",
    "vectorizer = TfidfVectorizer(stop_words=\"english\", max_features=5000)\n",
    "X = vectorizer.fit_transform(df[\"text\"])\n",
    "y = df[\"label\"]\n",
    "\n",
    "# Train model\n",
    "model = LogisticRegression(max_iter=200)\n",
    "model.fit(X, y)\n",
    "\n",
    "# Save model and vectorizer\n",
    "pickle.dump(model, open(\"sentiment_model.pkl\", \"wb\"))\n",
    "pickle.dump(vectorizer, open(\"vectorizer.pkl\", \"wb\"))\n",
    "\n",
    "print(\"✅ Custom dataset model trained & saved\")"
   ]
  },
  {
   "cell_type": "code",
   "execution_count": 6,
   "id": "945b7564-e8d2-40f9-9467-2f02dac82942",
   "metadata": {},
   "outputs": [
    {
     "name": "stdout",
     "output_type": "stream",
     "text": [
      "Collecting flask\n",
      "  Downloading flask-3.1.2-py3-none-any.whl.metadata (3.2 kB)\n",
      "Collecting blinker>=1.9.0 (from flask)\n",
      "  Downloading blinker-1.9.0-py3-none-any.whl.metadata (1.6 kB)\n",
      "Requirement already satisfied: click>=8.1.3 in c:\\users\\hp\\appdata\\local\\programs\\python\\python313\\lib\\site-packages (from flask) (8.2.1)\n",
      "Collecting itsdangerous>=2.2.0 (from flask)\n",
      "  Downloading itsdangerous-2.2.0-py3-none-any.whl.metadata (1.9 kB)\n",
      "Requirement already satisfied: jinja2>=3.1.2 in c:\\users\\hp\\appdata\\local\\programs\\python\\python313\\lib\\site-packages (from flask) (3.1.6)\n",
      "Requirement already satisfied: markupsafe>=2.1.1 in c:\\users\\hp\\appdata\\local\\programs\\python\\python313\\lib\\site-packages (from flask) (3.0.2)\n",
      "Collecting werkzeug>=3.1.0 (from flask)\n",
      "  Downloading werkzeug-3.1.3-py3-none-any.whl.metadata (3.7 kB)\n",
      "Requirement already satisfied: colorama in c:\\users\\hp\\appdata\\local\\programs\\python\\python313\\lib\\site-packages (from click>=8.1.3->flask) (0.4.6)\n",
      "Downloading flask-3.1.2-py3-none-any.whl (103 kB)\n",
      "Downloading blinker-1.9.0-py3-none-any.whl (8.5 kB)\n",
      "Downloading itsdangerous-2.2.0-py3-none-any.whl (16 kB)\n",
      "Downloading werkzeug-3.1.3-py3-none-any.whl (224 kB)\n",
      "Installing collected packages: werkzeug, itsdangerous, blinker, flask\n",
      "\n",
      "   ---------------------------------------- 0/4 [werkzeug]\n",
      "   ---------------------------------------- 0/4 [werkzeug]\n",
      "   ---------------------------------------- 0/4 [werkzeug]\n",
      "   ---------------------------------------- 0/4 [werkzeug]\n",
      "   ---------------------------------------- 0/4 [werkzeug]\n",
      "   ---------------------------------------- 0/4 [werkzeug]\n",
      "   ---------------------------------------- 0/4 [werkzeug]\n",
      "   ---------------------------------------- 0/4 [werkzeug]\n",
      "   ---------------------------------------- 0/4 [werkzeug]\n",
      "   ---------------------------------------- 0/4 [werkzeug]\n",
      "   ---------------------------------------- 0/4 [werkzeug]\n",
      "   ---------------------------------------- 0/4 [werkzeug]\n",
      "   ---------------------------------------- 0/4 [werkzeug]\n",
      "   ---------------------------------------- 0/4 [werkzeug]\n",
      "   ---------------------------------------- 0/4 [werkzeug]\n",
      "   ---------------------------------------- 0/4 [werkzeug]\n",
      "   ---------------------------------------- 0/4 [werkzeug]\n",
      "   ---------------------------------------- 0/4 [werkzeug]\n",
      "   ---------- ----------------------------- 1/4 [itsdangerous]\n",
      "   ---------- ----------------------------- 1/4 [itsdangerous]\n",
      "   -------------------- ------------------- 2/4 [blinker]\n",
      "   ------------------------------ --------- 3/4 [flask]\n",
      "   ------------------------------ --------- 3/4 [flask]\n",
      "   ------------------------------ --------- 3/4 [flask]\n",
      "   ------------------------------ --------- 3/4 [flask]\n",
      "   ------------------------------ --------- 3/4 [flask]\n",
      "   ------------------------------ --------- 3/4 [flask]\n",
      "   ------------------------------ --------- 3/4 [flask]\n",
      "   ------------------------------ --------- 3/4 [flask]\n",
      "   ------------------------------ --------- 3/4 [flask]\n",
      "   ------------------------------ --------- 3/4 [flask]\n",
      "   ------------------------------ --------- 3/4 [flask]\n",
      "   ---------------------------------------- 4/4 [flask]\n",
      "\n",
      "Successfully installed blinker-1.9.0 flask-3.1.2 itsdangerous-2.2.0 werkzeug-3.1.3\n"
     ]
    }
   ],
   "source": [
    "!pip install flask"
   ]
  },
  {
   "cell_type": "code",
   "execution_count": 8,
   "id": "e5e849a3-2a84-4ccf-9790-261be97049c3",
   "metadata": {},
   "outputs": [
    {
     "name": "stdout",
     "output_type": "stream",
     "text": [
      "✅ Model and vectorizer saved in 'models/' folder\n"
     ]
    }
   ],
   "source": [
    "import pandas as pd\n",
    "from sklearn.feature_extraction.text import TfidfVectorizer\n",
    "from sklearn.linear_model import LogisticRegression\n",
    "import pickle\n",
    "import os\n",
    "\n",
    "# Load your dataset\n",
    "df = pd.read_csv(\"C:/Users/HP/OneDrive/Desktop/internship jupiterking/sentiment-analysis-app/custom_sentiment_dataset.csv.csv\")\n",
    "\n",
    "# Preprocess\n",
    "df = df.dropna()\n",
    "df[\"label\"] = df[\"label\"].str.strip().str.lower()\n",
    "\n",
    "# Vectorize text\n",
    "vectorizer = TfidfVectorizer(stop_words=\"english\", max_features=5000)\n",
    "X = vectorizer.fit_transform(df[\"text\"])\n",
    "y = df[\"label\"]\n",
    "\n",
    "# Train model\n",
    "model = LogisticRegression(max_iter=300)\n",
    "model.fit(X, y)\n",
    "\n",
    "# Create \"models\" folder if not exists\n",
    "os.makedirs(\"models\", exist_ok=True)\n",
    "\n",
    "# Save model and vectorizer\n",
    "pickle.dump(model, open(\"models/sentiment_model.pkl\", \"wb\"))\n",
    "pickle.dump(vectorizer, open(\"models/vectorizer.pkl\", \"wb\"))\n",
    "\n",
    "print(\"✅ Model and vectorizer saved in 'models/' folder\")"
   ]
  },
  {
   "cell_type": "code",
   "execution_count": 12,
   "id": "b39b8b37-3460-4af0-9c7c-c0d807a0f0f9",
   "metadata": {},
   "outputs": [
    {
     "name": "stdout",
     "output_type": "stream",
     "text": [
      " * Serving Flask app '__main__'\n",
      " * Debug mode: on\n"
     ]
    },
    {
     "name": "stderr",
     "output_type": "stream",
     "text": [
      "WARNING: This is a development server. Do not use it in a production deployment. Use a production WSGI server instead.\n",
      " * Running on http://127.0.0.1:5000\n",
      "Press CTRL+C to quit\n",
      " * Restarting with stat\n"
     ]
    },
    {
     "ename": "SystemExit",
     "evalue": "1",
     "output_type": "error",
     "traceback": [
      "An exception has occurred, use %tb to see the full traceback.\n",
      "\u001b[31mSystemExit\u001b[39m\u001b[31m:\u001b[39m 1\n"
     ]
    },
    {
     "name": "stderr",
     "output_type": "stream",
     "text": [
      "C:\\Users\\HP\\AppData\\Local\\Programs\\Python\\Python313\\Lib\\site-packages\\IPython\\core\\interactiveshell.py:3707: UserWarning: To exit: use 'exit', 'quit', or Ctrl-D.\n",
      "  warn(\"To exit: use 'exit', 'quit', or Ctrl-D.\", stacklevel=1)\n"
     ]
    }
   ],
   "source": [
    "from flask import Flask\n",
    "# ❌ remove: from app.routes import main\n",
    "# because you don’t have an app/ folder\n",
    "\n",
    "def create_app():\n",
    "    app = Flask(__name__)\n",
    "\n",
    "    @app.route(\"/\")\n",
    "    def home():\n",
    "        return \"Hello, Flask Sentiment App is running!\"\n",
    "\n",
    "    return app\n",
    "\n",
    "if __name__ == \"__main__\":\n",
    "    app = create_app()\n",
    "    app.run(debug=True)"
   ]
  },
  {
   "cell_type": "code",
   "execution_count": 24,
   "id": "9efa9446-7ca8-4fd5-a012-0d7531c6e066",
   "metadata": {},
   "outputs": [
    {
     "name": "stdout",
     "output_type": "stream",
     "text": [
      "Prediction: neutral\n"
     ]
    }
   ],
   "source": [
    "import pickle\n",
    "\n",
    "# Load trained model & vectorizer\n",
    "model = pickle.load(open(\"C:/Users/HP/OneDrive/Desktop/internship jupiterking/sentiment-analysis-app/models/sentiment_model.pkl\", \"rb\"))\n",
    "vectorizer = pickle.load(open(\"C:/Users/HP/OneDrive/Desktop/internship jupiterking/sentiment-analysis-app/vectorizer.pkl\", \"rb\"))\n",
    "\n",
    "# New review\n",
    "new_text = [\"Average performance, could improve\"]\n",
    "\n",
    "# Vectorize with the SAME vectorizer\n",
    "new_text_vec = vectorizer.transform(new_text)\n",
    "\n",
    "# Predict\n",
    "prediction = model.predict(new_text_vec)[0]\n",
    "\n",
    "print(\"Prediction:\", prediction)  # Example output: Positive / Negative / 1 / 0\n"
   ]
  },
  {
   "cell_type": "code",
   "execution_count": 25,
   "id": "5ced9667-3704-41c5-984d-b11cbd64f41f",
   "metadata": {},
   "outputs": [
    {
     "name": "stdout",
     "output_type": "stream",
     "text": [
      " * Serving Flask app '__main__'\n",
      " * Debug mode: on\n"
     ]
    },
    {
     "name": "stderr",
     "output_type": "stream",
     "text": [
      "WARNING: This is a development server. Do not use it in a production deployment. Use a production WSGI server instead.\n",
      " * Running on http://127.0.0.1:5000\n",
      "Press CTRL+C to quit\n",
      " * Restarting with stat\n"
     ]
    },
    {
     "ename": "SystemExit",
     "evalue": "1",
     "output_type": "error",
     "traceback": [
      "An exception has occurred, use %tb to see the full traceback.\n",
      "\u001b[31mSystemExit\u001b[39m\u001b[31m:\u001b[39m 1\n"
     ]
    },
    {
     "name": "stderr",
     "output_type": "stream",
     "text": [
      "C:\\Users\\HP\\AppData\\Local\\Programs\\Python\\Python313\\Lib\\site-packages\\IPython\\core\\interactiveshell.py:3707: UserWarning: To exit: use 'exit', 'quit', or Ctrl-D.\n",
      "  warn(\"To exit: use 'exit', 'quit', or Ctrl-D.\", stacklevel=1)\n"
     ]
    }
   ],
   "source": [
    "from flask import Flask, render_template, request\n",
    "import pickle\n",
    "\n",
    "app = Flask(__name__)\n",
    "\n",
    "# Load model and vectorizer\n",
    "model = pickle.load(open(\"C:/Users/HP/OneDrive/Desktop/internship jupiterking/sentiment-analysis-app/models/sentiment_model.pkl\", \"rb\"))\n",
    "vectorizer = pickle.load(open(\"C:/Users/HP/OneDrive/Desktop/internship jupiterking/sentiment-analysis-app/models/vectorizer.pkl\", \"rb\"))\n",
    "\n",
    "# Home route → shows form\n",
    "@app.route(\"/\")\n",
    "def home():\n",
    "    return render_template(\"index.html\")\n",
    "\n",
    "# Predict route → handles POST request\n",
    "@app.route(\"/predict\", methods=[\"POST\"])\n",
    "def predict():\n",
    "    if request.method == \"POST\":\n",
    "        input_text = request.form[\"text\"]\n",
    "        prediction = model.predict(vectorizer.transform([input_text]))[0]\n",
    "        return render_template(\"index.html\", prediction=prediction, input_text=input_text)\n",
    "\n",
    "if __name__ == \"__main__\":\n",
    "    app.run(debug=True)\n"
   ]
  },
  {
   "cell_type": "code",
   "execution_count": null,
   "id": "6898b813-8141-499d-ab2d-966dc0b9b502",
   "metadata": {},
   "outputs": [],
   "source": []
  }
 ],
 "metadata": {
  "kernelspec": {
   "display_name": "Python 3 (ipykernel)",
   "language": "python",
   "name": "python3"
  },
  "language_info": {
   "codemirror_mode": {
    "name": "ipython",
    "version": 3
   },
   "file_extension": ".py",
   "mimetype": "text/x-python",
   "name": "python",
   "nbconvert_exporter": "python",
   "pygments_lexer": "ipython3",
   "version": "3.13.7"
  }
 },
 "nbformat": 4,
 "nbformat_minor": 5
}
